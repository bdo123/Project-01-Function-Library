{
  "nbformat": 4,
  "nbformat_minor": 0,
  "metadata": {
    "colab": {
      "provenance": []
    },
    "kernelspec": {
      "name": "python3",
      "display_name": "Python 3"
    },
    "language_info": {
      "name": "python"
    }
  },
  "cells": [
    {
      "cell_type": "code",
      "source": [
        "def validate_menu_item(name: str, menu: list[str]) -> bool:\n",
        "    \"\"\"Check if a food item exists in the menu.\n",
        "\n",
        "    Args:\n",
        "        name (str): Food item name to check.\n",
        "        menu (list[str]): List of valid menu items.\n",
        "\n",
        "    Returns:\n",
        "        bool: True if item exists, False otherwise.\n",
        "\n",
        "    Raises:\n",
        "        TypeError: If name is not a string\n",
        "    \"\"\"\n",
        "    if not isinstance(name, str):\n",
        "        raise TypeError(\"Menu item name must be a string\")\n",
        "    return name.lower().strip() in [item.lower() for item in menu]\n"
      ],
      "metadata": {
        "id": "6oQADUtdV2IM"
      },
      "execution_count": null,
      "outputs": []
    },
    {
      "cell_type": "code",
      "source": [
        "def format_calories(calories: int) -> str:\n",
        "    \"\"\"Format calories into a readable string.\n",
        "\n",
        "    Args:\n",
        "        calories (int): Calorie amount.\n",
        "\n",
        "    Returns:\n",
        "        str: Formatted string like \"450 kcal\".\n",
        "\n",
        "    Raises:\n",
        "        TypeError: If calories is not a number\n",
        "    \"\"\"\n",
        "    if not isinstance(calories, (int, float)):\n",
        "        raise TypeError(\"Calories must be a number\")\n",
        "    return f\"{calories} kcal\"\n"
      ],
      "metadata": {
        "id": "00oEQvh2ZkIE"
      },
      "execution_count": null,
      "outputs": []
    },
    {
      "cell_type": "code",
      "source": [
        "def get_macronutrient_ratio(protein: int, carbs: int, fat: int) -> dict:\n",
        "    \"\"\"Return percentage ratio of protein, carbs, and fat.\n",
        "\n",
        "    Args:\n",
        "        protein (int): Protein grams.\n",
        "        carbs (int): Carbohydrate grams.\n",
        "        fat (int): Fat grams.\n",
        "\n",
        "    Returns:\n",
        "        dict: {\"protein\": %, \"carbs\": %, \"fat\": %}\n",
        "    \"\"\"\n",
        "    total = protein + carbs + fat\n",
        "    if total == 0:\n",
        "        return {\"protein\": 0, \"carbs\": 0, \"fat\": 0}\n",
        "    return {\n",
        "        \"protein\": round((protein / total) * 100, 1),\n",
        "        \"carbs\": round((carbs / total) * 100, 1),\n",
        "        \"fat\": round((fat / total) * 100, 1),\n",
        "    }\n"
      ],
      "metadata": {
        "id": "QGoHXpGJZnRr"
      },
      "execution_count": null,
      "outputs": []
    },
    {
      "cell_type": "code",
      "source": [
        "def clean_food_name(name: str) -> str:\n",
        "    \"\"\"Normalize food names by stripping spaces, symbols, and lowercasing.\n",
        "\n",
        "    Args:\n",
        "        name (str): Raw food name.\n",
        "\n",
        "    Returns:\n",
        "        str: Cleaned name.\n",
        "    \"\"\"\n",
        "    return \"\".join(ch for ch in name.strip().lower() if ch.isalnum() or ch.isspace())\n"
      ],
      "metadata": {
        "id": "ZPKdNLyRZqPB"
      },
      "execution_count": null,
      "outputs": []
    },
    {
      "cell_type": "code",
      "source": [
        "def is_diet_friendly(item: dict, diet_type: str) -> bool:\n",
        "    \"\"\"Check if a menu item is suitable for a diet type.\n",
        "\n",
        "    Args:\n",
        "        item (dict): Item dictionary with attributes\n",
        "                     (e.g., {\"name\": \"Hot Dog\", \"vegetarian\": False})\n",
        "        diet_type (str): Type of diet (\"vegetarian\", \"vegan\", \"gluten-free\")\n",
        "\n",
        "    Returns:\n",
        "        bool: True if diet-friendly, False otherwise.\n",
        "    \"\"\"\n",
        "    if diet_type.lower() == \"vegetarian\":\n",
        "        return item.get(\"vegetarian\", False)\n",
        "    if diet_type.lower() == \"vegan\":\n",
        "        return item.get(\"vegan\", False)\n",
        "    if diet_type.lower() == \"gluten-free\":\n",
        "        return item.get(\"gluten_free\", False)\n",
        "    return False\n"
      ],
      "metadata": {
        "id": "fLv9IP1cZshn"
      },
      "execution_count": null,
      "outputs": []
    },
    {
      "cell_type": "markdown",
      "source": [
        "medium"
      ],
      "metadata": {
        "id": "x_0ENwt8aBej"
      }
    },
    {
      "cell_type": "code",
      "source": [
        "def calculate_total_calories(menu: list[dict]) -> int:\n",
        "    \"\"\"Sum total calories from a list of food items.\n",
        "\n",
        "    Args:\n",
        "        menu (list[dict]): List of items, each containing a \"calories\" key.\n",
        "\n",
        "    Returns:\n",
        "        int: Total calories of all items.\n",
        "\n",
        "    Examples:\n",
        "        >>> menu = [{\"name\": \"Hot Dog\", \"calories\": 300}, {\"name\": \"Fries\", \"calories\": 400}]\n",
        "        >>> calculate_total_calories(menu)\n",
        "        700\n",
        "    \"\"\"\n",
        "    return sum(item.get(\"calories\", 0) for item in menu)\n"
      ],
      "metadata": {
        "id": "rOTfqd27Z3bK"
      },
      "execution_count": null,
      "outputs": []
    },
    {
      "cell_type": "code",
      "source": [
        "def filter_menu_by_calories(menu: list[dict], max_cal: int) -> list[dict]:\n",
        "    \"\"\"Filter menu items that are under or equal to a calorie limit.\n",
        "\n",
        "    Args:\n",
        "        menu (list[dict]): Menu with nutrition info.\n",
        "        max_cal (int): Maximum allowed calories.\n",
        "\n",
        "    Returns:\n",
        "        list[dict]: Filtered items under calorie threshold.\n",
        "\n",
        "    Examples:\n",
        "        >>> menu = [{\"name\": \"Hot Dog\", \"calories\": 300}, {\"name\": \"Burger\", \"calories\": 600}]\n",
        "        >>> filter_menu_by_calories(menu, 400)\n",
        "        [{'name': 'Hot Dog', 'calories': 300}]\n",
        "    \"\"\"\n",
        "    return [item for item in menu if item.get(\"calories\", 0) <= max_cal]\n"
      ],
      "metadata": {
        "id": "amcCx5JPZ8dU"
      },
      "execution_count": null,
      "outputs": []
    },
    {
      "cell_type": "code",
      "source": [
        "def search_menu(menu: list[dict], keyword: str) -> list[dict]:\n",
        "    \"\"\"Search menu items by keyword in their name.\n",
        "\n",
        "    Args:\n",
        "        menu (list[dict]): List of menu items.\n",
        "        keyword (str): Search keyword.\n",
        "\n",
        "    Returns:\n",
        "        list[dict]: Items that match the keyword.\n",
        "\n",
        "    Examples:\n",
        "        >>> menu = [{\"name\": \"Hot Dog\"}, {\"name\": \"Cheeseburger\"}]\n",
        "        >>> search_menu(menu, \"dog\")\n",
        "        [{'name': 'Hot Dog'}]\n",
        "    \"\"\"\n",
        "    keyword = keyword.lower()\n",
        "    return [item for item in menu if keyword in item[\"name\"].lower()]\n"
      ],
      "metadata": {
        "id": "NVKLhKCGaKTW"
      },
      "execution_count": null,
      "outputs": []
    },
    {
      "cell_type": "code",
      "source": [
        "def estimate_serving_size(food_name: str) -> str:\n",
        "    \"\"\"Estimate serving size based on the type of food.\n",
        "\n",
        "    Args:\n",
        "        food_name (str): Food item name.\n",
        "\n",
        "    Returns:\n",
        "        str: Estimated serving size description.\n",
        "\n",
        "    Examples:\n",
        "        >>> estimate_serving_size(\"Cheese Pizza\")\n",
        "        '1 slice'\n",
        "        >>> estimate_serving_size(\"French Fries\")\n",
        "        '1 basket'\n",
        "    \"\"\"\n",
        "    food_name = food_name.lower()\n",
        "    if \"pizza\" in food_name:\n",
        "        return \"1 slice\"\n",
        "    if \"fries\" in food_name:\n",
        "        return \"1 basket\"\n",
        "    if \"hot dog\" in food_name:\n",
        "        return \"1 unit\"\n",
        "    if \"pretzel\" in food_name:\n",
        "        return \"1 pretzel\"\n",
        "    return \"1 serving\"\n"
      ],
      "metadata": {
        "id": "yPWLFj-saNlb"
      },
      "execution_count": null,
      "outputs": []
    },
    {
      "cell_type": "code",
      "source": [
        "def generate_food_label(item: dict) -> str:\n",
        "    \"\"\"Generate a nutrition label string for a food item.\n",
        "\n",
        "    Args:\n",
        "        item (dict): Food item with nutrition info\n",
        "                     (must include 'name' and 'calories').\n",
        "\n",
        "    Returns:\n",
        "        str: Formatted label with calories and macros.\n",
        "\n",
        "    Examples:\n",
        "        >>> item = {\"name\": \"Hot Dog\", \"calories\": 300, \"protein\": 12, \"carbs\": 20, \"fat\": 15}\n",
        "        >>> print(generate_food_label(item))\n",
        "        Hot Dog - 300 kcal\n",
        "        Protein: 12g | Carbs: 20g | Fat: 15g\n",
        "    \"\"\"\n",
        "    return (\n",
        "        f\"{item['name']} - {item['calories']} kcal\\n\"\n",
        "        f\"Protein: {item.get('protein', 0)}g | \"\n",
        "        f\"Carbs: {item.get('carbs', 0)}g | \"\n",
        "        f\"Fat: {item.get('fat', 0)}g\"\n",
        "    )\n"
      ],
      "metadata": {
        "id": "q--hgPhPaPeb"
      },
      "execution_count": null,
      "outputs": []
    },
    {
      "cell_type": "markdown",
      "source": [
        "Complex Function"
      ],
      "metadata": {
        "id": "GVONbK35Iizs"
      }
    },
    {
      "cell_type": "code",
      "source": [
        "import requests\n",
        "\n",
        "def get_nutrition_from_web(food_name: str) -> dict:\n",
        "    \"\"\"Fetch nutrition data for a given food from a web API.\n",
        "\n",
        "    Args:\n",
        "        food_name (str): The food name to search (e.g., \"Hot Dog\").\n",
        "\n",
        "    Returns:\n",
        "        dict: Nutrition data (calories, protein, fat, carbs).\n",
        "\n",
        "    Raises:\n",
        "        ValueError: If the API cannot find the food.\n",
        "        ConnectionError: If the request fails.\n",
        "\n",
        "    Examples:\n",
        "        >>> get_nutrition_from_web(\"cheeseburger\")\n",
        "        {'calories': 303, 'protein': 17, 'carbs': 33, 'fat': 12}\n",
        "    \"\"\"\n",
        "    try:\n",
        "        url = f\"https://api.api-ninjas.com/v1/nutrition?query={food_name}\"\n",
        "        headers = {'X-Api-Key': 'YOUR_API_KEY'}\n",
        "        response = requests.get(url, headers=headers)\n",
        "        if response.status_code != 200:\n",
        "            raise ConnectionError(\"Failed to connect to nutrition API.\")\n",
        "        data = response.json()\n",
        "        if not data:\n",
        "            raise ValueError(\"Food not found in database.\")\n",
        "        item = data[0]\n",
        "        return {\n",
        "            \"calories\": round(item.get(\"calories\", 0)),\n",
        "            \"protein\": round(item.get(\"protein_g\", 0)),\n",
        "            \"carbs\": round(item.get(\"carbohydrates_total_g\", 0)),\n",
        "            \"fat\": round(item.get(\"fat_total_g\", 0)),\n",
        "        }\n",
        "    except Exception as e:\n",
        "        print(f\"Error fetching nutrition data: {e}\")\n",
        "        return {}\n"
      ],
      "metadata": {
        "id": "xiEfq6OdIngy"
      },
      "execution_count": null,
      "outputs": []
    },
    {
      "cell_type": "code",
      "source": [
        "def create_interactive_menu(menu: list[dict]) -> None:\n",
        "    \"\"\"Create a text-based interactive food menu for users to browse.\n",
        "\n",
        "    Args:\n",
        "        menu (list[dict]): List of food items with names and calories.\n",
        "\n",
        "    Behavior:\n",
        "        Displays menu items and lets user select one to view details.\n",
        "\n",
        "    Examples:\n",
        "        >>> create_interactive_menu([{\"name\": \"Hot Dog\", \"calories\": 300}])\n",
        "    \"\"\"\n",
        "    print(\"\\n=== UMD Game Day Menu ===\")\n",
        "    for i, item in enumerate(menu, 1):\n",
        "        print(f\"{i}. {item['name']} ({item.get('calories', '?')} kcal)\")\n",
        "\n",
        "    try:\n",
        "        choice = int(input(\"\\nSelect an item number to view details: \"))\n",
        "        selected = menu[choice - 1]\n",
        "        print(\"\\n\" + generate_food_label(selected))\n",
        "    except (ValueError, IndexError):\n",
        "        print(\"Invalid choice. Please select a valid item.\")\n"
      ],
      "metadata": {
        "id": "is36S3IKIzm8"
      },
      "execution_count": null,
      "outputs": []
    },
    {
      "cell_type": "code",
      "source": [
        "import matplotlib.pyplot as plt\n",
        "\n",
        "def visualize_nutrition(item: dict) -> None:\n",
        "    \"\"\"Display a simple bar chart for the nutrition breakdown.\n",
        "\n",
        "    Args:\n",
        "        item (dict): Food item with macros (protein, carbs, fat).\n",
        "\n",
        "    Example:\n",
        "        >>> visualize_nutrition({'name': 'Hot Dog', 'protein': 12, 'carbs': 20, 'fat': 15})\n",
        "    \"\"\"\n",
        "    labels = ['Protein', 'Carbs', 'Fat']\n",
        "    values = [item.get('protein', 0), item.get('carbs', 0), item.get('fat', 0)]\n",
        "\n",
        "    plt.bar(labels, values)\n",
        "    plt.title(f\"Nutrition Breakdown: {item.get('name', 'Unknown')}\")\n",
        "    plt.ylabel(\"Grams (g)\")\n",
        "    plt.show()\n"
      ],
      "metadata": {
        "id": "UN0RlGGWI3C5"
      },
      "execution_count": null,
      "outputs": []
    },
    {
      "cell_type": "code",
      "source": [
        "def suggest_healthier_alternative(menu: list[dict], selected: str) -> dict:\n",
        "    \"\"\"Suggest a healthier alternative for a selected menu item.\n",
        "\n",
        "    Args:\n",
        "        menu (list[dict]): Menu items with calorie info.\n",
        "        selected (str): Name of the food item.\n",
        "\n",
        "    Returns:\n",
        "        dict: Healthier item suggestion, or empty dict if none.\n",
        "\n",
        "    Example:\n",
        "        >>> suggest_healthier_alternative(menu, \"Cheeseburger\")\n",
        "        {'name': 'Grilled Chicken Sandwich', 'calories': 280}\n",
        "    \"\"\"\n",
        "    selected_item = next((i for i in menu if selected.lower() in i['name'].lower()), None)\n",
        "    if not selected_item:\n",
        "        return {}\n",
        "\n",
        "    selected_cal = selected_item.get(\"calories\", 9999)\n",
        "    options = [i for i in menu if i.get(\"calories\", 9999) < selected_cal]\n",
        "    if not options:\n",
        "        return {}\n",
        "\n",
        "    return min(options, key=lambda x: x[\"calories\"])\n"
      ],
      "metadata": {
        "id": "wZWaPmceI62N"
      },
      "execution_count": null,
      "outputs": []
    },
    {
      "cell_type": "code",
      "source": [
        "def build_game_day_summary(menu: list[dict]) -> str:\n",
        "    \"\"\"Create a formatted summary of all menu items for display or export.\n",
        "\n",
        "    Args:\n",
        "        menu (list[dict]): List of food items with nutrition data.\n",
        "\n",
        "    Returns:\n",
        "        str: Full printable summary of menu with calories and macros.\n",
        "\n",
        "    Example:\n",
        "        >>> print(build_game_day_summary(menu))\n",
        "    \"\"\"\n",
        "    summary = \"=== UMD GAME DAY MENU SUMMARY ===\\n\"\n",
        "    for item in menu:\n",
        "        summary += f\"\\n🍔 {item['name']} - {item.get('calories', '?')} kcal\\n\"\n",
        "        summary += f\"Protein: {item.get('protein', 0)}g | Carbs: {item.get('carbs', 0)}g | Fat: {item.get('fat', 0)}g\\n\"\n",
        "    return summary"
      ],
      "metadata": {
        "id": "JfOY5DtII9d2"
      },
      "execution_count": null,
      "outputs": []
    }
  ]
}